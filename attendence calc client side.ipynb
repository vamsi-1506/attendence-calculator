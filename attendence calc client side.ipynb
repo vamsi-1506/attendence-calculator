from tkinter import *
from tkinter import messagebox
import numpy as np
import pandas as pd
import tkinter as t
from tkinter import filedialog
from matplotlib.backends.backend_tkagg import FigureCanvasTkAgg
from matplotlib.figure import Figure
tk=Tk()
tk.geometry("1000x1000")
tk.title("ml project")
fn= filedialog.askopenfilename(initialdir="/Users/user", title="select a excel file",filetypes=(("csv files","*.csv"),("all files","*.*")))
def calc():
       df=pd.read_csv(fn)
       x=list(df.iloc[:,0])
       y=np.array(df.iloc[:,1:])
       n=no.get()
       if n in x:
            index=x.index(n)
            k= list(y[index]).count('p')
            g= list(y[index]).count('a')
            u= (k)/(k+g)*(100)
            return k,g,u,n
       elif(n=="") :
           messagebox.showinfo("tk","enter input to calculate")
       else:
            messagebox.showinfo("tk","input is invalid")
def display():
   v1=calc()
   o1=Entry(tk,textvariable="",width=20,fg="green",font="bold")
   o1.insert(0,v1[0])
   o2=Entry(tk,textvariable="",width=20,fg="red",font="bold")
   o2.insert(0,v1[1])
   o3=Entry(tk,textvariable="",width=20,fg="blue",font="bold")
   o3.place(x=40, y=100, width=180, height=60)
   o3.insert(0,str(v1[2])+"%")
   o1.grid(row=3,column=2,padx=10,pady=10)
   o2.grid(row=4,column=2,padx=10,pady=10)
   o3.grid(row=5,column=2,padx=10,pady=10)
   l2=Label(tk,text="PRESENT DAYS:",fg="yellow4")
   l3=Label(tk,text="ABSENT DAYS:",fg="yellow4")
   l4=Label(tk,text="PERCENTAGE:",fg="yellow4")
   l2.grid(row=3,column=1,padx=10,pady=10)
   l3.grid(row=4,column=1,padx=10,pady=10)
   l4.grid(row=5,column=1,padx=10,pady=10)
   j2=Label(tk,text="PIECHART",fg="brown")
   j2.grid(row=6,column=1,padx=10,pady=10)
   label=["present","Absent"]
   count=[v1[0],v1[1]]
   fig = Figure(figsize=(4,3))
   ax = fig.add_subplot(111)
   ax.pie(count, labels=label,autopct='%0.2f%%' )
   chart1 = FigureCanvasTkAgg(fig)
   chart1.get_tk_widget().grid(row=7,column=2)
l1=Label(tk,text="ENTER ROLL NUMBER:",fg="maroon1")
l1.grid(row=1,column=1,padx=50,pady=10)
no=StringVar()
ip=Entry(tk,textvariable=no,font="bold")
ip.grid(row=1,column=2,padx=10,pady=0)
b1=Button(tk,text="start",command=display,bg="lightblue")
b1.grid(row=2,column=1,padx=10,pady=20)
b1=Button(tk,text="submit",command=display,bg="lightblue")
b1.grid(row=2,column=2,padx=10,pady=20)
l=Label(tk,text="Attendence Calculator(press start button after choosing file to start)",font="typeweiter 15 bold",fg="darkorange")
l.grid(row=0,column=2,pady=50)
tk.mainloop()
