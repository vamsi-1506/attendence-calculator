{
 "cells": [
  {
   "cell_type": "code",
   "execution_count": 2,
   "metadata": {},
   "outputs": [
    {
     "name": "stderr",
     "output_type": "stream",
     "text": [
      "Exception in Tkinter callback\n",
      "Traceback (most recent call last):\n",
      "  File \"C:\\Program Files\\WindowsApps\\PythonSoftwareFoundation.Python.3.11_3.11.1520.0_x64__qbz5n2kfra8p0\\Lib\\tkinter\\__init__.py\", line 1948, in __call__\n",
      "    return self.func(*args)\n",
      "           ^^^^^^^^^^^^^^^^\n",
      "  File \"C:\\Users\\user\\AppData\\Local\\Temp\\ipykernel_17388\\6726328.py\", line 31, in display\n",
      "    o1.insert(0,v1[0])\n",
      "                ~~^^^\n",
      "TypeError: 'NoneType' object is not subscriptable\n"
     ]
    }
   ],
   "source": [
    "from tkinter import *\n",
    "from tkinter import messagebox\n",
    "import numpy as np\n",
    "import pandas as pd\n",
    "import tkinter as t\n",
    "from tkinter import filedialog\n",
    "from matplotlib.backends.backend_tkagg import FigureCanvasTkAgg\n",
    "from matplotlib.figure import Figure\n",
    "tk=Tk()\n",
    "tk.geometry(\"1000x1000\")\n",
    "tk.title(\"ml project\")\n",
    "fn= filedialog.askopenfilename(initialdir=\"/Users/user\", title=\"select a excel file\",filetypes=((\"csv files\",\"*.csv\"),(\"all files\",\"*.*\")))\n",
    "def calc():\n",
    "       df=pd.read_csv(fn)\n",
    "       x=list(df.iloc[:,0])\n",
    "       y=np.array(df.iloc[:,1:])\n",
    "       n=no.get()\n",
    "       if n in x:\n",
    "            index=x.index(n)\n",
    "            k= list(y[index]).count('p')\n",
    "            g= list(y[index]).count('a')\n",
    "            u= (k)/(k+g)*(100)\n",
    "            return k,g,u,n\n",
    "       elif(n==\"\") :\n",
    "           messagebox.showinfo(\"tk\",\"enter input to calculate\")\n",
    "       else:\n",
    "            messagebox.showinfo(\"tk\",\"input is invalid\")\n",
    "def display():\n",
    "   v1=calc()\n",
    "   o1=Entry(tk,textvariable=\"\",width=20,fg=\"green\",font=\"bold\")\n",
    "   o1.insert(0,v1[0])\n",
    "   o2=Entry(tk,textvariable=\"\",width=20,fg=\"red\",font=\"bold\")\n",
    "   o2.insert(0,v1[1])\n",
    "   o3=Entry(tk,textvariable=\"\",width=20,fg=\"blue\",font=\"bold\")\n",
    "   o3.place(x=40, y=100, width=180, height=60)\n",
    "   o3.insert(0,str(v1[2])+\"%\")\n",
    "   o1.grid(row=3,column=2,padx=10,pady=10)\n",
    "   o2.grid(row=4,column=2,padx=10,pady=10)\n",
    "   o3.grid(row=5,column=2,padx=10,pady=10)\n",
    "   l2=Label(tk,text=\"PRESENT DAYS:\",fg=\"yellow4\")\n",
    "   l3=Label(tk,text=\"ABSENT DAYS:\",fg=\"yellow4\")\n",
    "   l4=Label(tk,text=\"PERCENTAGE:\",fg=\"yellow4\")\n",
    "   l2.grid(row=3,column=1,padx=10,pady=10)\n",
    "   l3.grid(row=4,column=1,padx=10,pady=10)\n",
    "   l4.grid(row=5,column=1,padx=10,pady=10)\n",
    "   j2=Label(tk,text=\"PIECHART\",fg=\"brown\")\n",
    "   j2.grid(row=6,column=1,padx=10,pady=10)\n",
    "   label=[\"present\",\"Absent\"]\n",
    "   count=[v1[0],v1[1]]\n",
    "   fig = Figure(figsize=(4,3))\n",
    "   ax = fig.add_subplot(111)\n",
    "   ax.pie(count, labels=label,autopct='%0.2f%%' )\n",
    "   chart1 = FigureCanvasTkAgg(fig)\n",
    "   chart1.get_tk_widget().grid(row=7,column=2)\n",
    "l1=Label(tk,text=\"ENTER ROLL NUMBER:\",fg=\"maroon1\")\n",
    "l1.grid(row=1,column=1,padx=50,pady=10)\n",
    "no=StringVar()\n",
    "ip=Entry(tk,textvariable=no,font=\"bold\")\n",
    "ip.grid(row=1,column=2,padx=10,pady=0)\n",
    "b1=Button(tk,text=\"start\",command=display,bg=\"lightblue\")\n",
    "b1.grid(row=2,column=1,padx=10,pady=20)\n",
    "b1=Button(tk,text=\"submit\",command=display,bg=\"lightblue\")\n",
    "b1.grid(row=2,column=2,padx=10,pady=20)\n",
    "l=Label(tk,text=\"Attendence Calculator(press start button after choosing file to start)\",font=\"typeweiter 15 bold\",fg=\"darkorange\")\n",
    "l.grid(row=0,column=2,pady=50)\n",
    "tk.mainloop()"
   ]
  },
  {
   "cell_type": "code",
   "execution_count": 1,
   "metadata": {},
   "outputs": [
    {
     "name": "stderr",
     "output_type": "stream",
     "text": [
      "<>:9: SyntaxWarning: 'int' object is not callable; perhaps you missed a comma?\n",
      "<>:9: SyntaxWarning: 'int' object is not callable; perhaps you missed a comma?\n"
     ]
    },
    {
     "ename": "ModuleNotFoundError",
     "evalue": "No module named 'tensorflow.python'",
     "output_type": "error",
     "traceback": [
      "\u001b[1;31m---------------------------------------------------------------------------\u001b[0m",
      "\u001b[1;31mModuleNotFoundError\u001b[0m                       Traceback (most recent call last)",
      "Cell \u001b[1;32mIn[1], line 1\u001b[0m\n\u001b[1;32m----> 1\u001b[0m \u001b[38;5;28;01mimport\u001b[39;00m \u001b[38;5;21;01mtensorflow\u001b[39;00m \u001b[38;5;28;01mas\u001b[39;00m \u001b[38;5;21;01mtf\u001b[39;00m\n\u001b[0;32m      2\u001b[0m \u001b[38;5;28;01mfrom\u001b[39;00m \u001b[38;5;21;01mkeras\u001b[39;00m\u001b[38;5;21;01m.\u001b[39;00m\u001b[38;5;21;01mdatasets\u001b[39;00m \u001b[38;5;28;01mimport\u001b[39;00m mnist \n\u001b[0;32m      3\u001b[0m \u001b[38;5;28;01mfrom\u001b[39;00m \u001b[38;5;21;01mmatplotlib\u001b[39;00m \u001b[38;5;28;01mimport\u001b[39;00m pyplot \u001b[38;5;28;01mas\u001b[39;00m p\n",
      "File \u001b[1;32m~\\AppData\\Local\\Packages\\PythonSoftwareFoundation.Python.3.11_qbz5n2kfra8p0\\LocalCache\\local-packages\\Python311\\site-packages\\tensorflow\\__init__.py:38\u001b[0m\n\u001b[0;32m     35\u001b[0m \u001b[38;5;28;01mimport\u001b[39;00m \u001b[38;5;21;01msys\u001b[39;00m \u001b[38;5;28;01mas\u001b[39;00m \u001b[38;5;21;01m_sys\u001b[39;00m\n\u001b[0;32m     36\u001b[0m \u001b[38;5;28;01mimport\u001b[39;00m \u001b[38;5;21;01mtyping\u001b[39;00m \u001b[38;5;28;01mas\u001b[39;00m \u001b[38;5;21;01m_typing\u001b[39;00m\n\u001b[1;32m---> 38\u001b[0m \u001b[38;5;28;01mfrom\u001b[39;00m \u001b[38;5;21;01mtensorflow\u001b[39;00m\u001b[38;5;21;01m.\u001b[39;00m\u001b[38;5;21;01mpython\u001b[39;00m\u001b[38;5;21;01m.\u001b[39;00m\u001b[38;5;21;01mtools\u001b[39;00m \u001b[38;5;28;01mimport\u001b[39;00m module_util \u001b[38;5;28;01mas\u001b[39;00m _module_util\n\u001b[0;32m     39\u001b[0m \u001b[38;5;28;01mfrom\u001b[39;00m \u001b[38;5;21;01mtensorflow\u001b[39;00m\u001b[38;5;21;01m.\u001b[39;00m\u001b[38;5;21;01mpython\u001b[39;00m\u001b[38;5;21;01m.\u001b[39;00m\u001b[38;5;21;01mutil\u001b[39;00m\u001b[38;5;21;01m.\u001b[39;00m\u001b[38;5;21;01mlazy_loader\u001b[39;00m \u001b[38;5;28;01mimport\u001b[39;00m LazyLoader \u001b[38;5;28;01mas\u001b[39;00m _LazyLoader\n\u001b[0;32m     41\u001b[0m \u001b[38;5;66;03m# Make sure code inside the TensorFlow codebase can use tf2.enabled() at import.\u001b[39;00m\n",
      "\u001b[1;31mModuleNotFoundError\u001b[0m: No module named 'tensorflow.python'"
     ]
    }
   ],
   "source": [
    "import tensorflow as tf\n",
    "from keras.datasets import mnist \n",
    "from matplotlib import pyplot as p\n",
    "import numpy as np\n",
    "(bi, tl),(tei, tel) =mnist.load_data()\n",
    "for i in range (10):\n",
    "   P-subplob (92, i+1)\n",
    "   P.imshow( bi[i],cmap='gray-r')\n",
    "   P.title(\"label: {}\".format(61(i)))\n",
    "   p.axis('off')\n",
    "from keras.models import sequential \n",
    "from Keras.layers import Dense, flatten \n",
    "nn=Sequential()\n",
    "nn.add(flatten(input_shape =(28,28)))\n",
    "nn.add(Dense(784,activation = 'relu'))\n",
    "nn.add(Dense(612,activation = 'relu'))\n",
    "nn.add(Dense(10,activation = 'softmax'))\n",
    "nn.compile( optimizer = 'adam', loss='sparse_categorical_entropy', metric = [accuracy])\n",
    "nn-fit(ti, tl, epochs = 12)\n",
    "p1=nn-predict(tei)\n",
    "if tel[0] == np.argmax(p1[0]) :\n",
    "    print ( \"cp\")\n",
    "else: \n",
    "    print (\"Incorrectp\")"
   ]
  }
 ],
 "metadata": {
  "kernelspec": {
   "display_name": "Python 3",
   "language": "python",
   "name": "python3"
  },
  "language_info": {
   "codemirror_mode": {
    "name": "ipython",
    "version": 3
   },
   "file_extension": ".py",
   "mimetype": "text/x-python",
   "name": "python",
   "nbconvert_exporter": "python",
   "pygments_lexer": "ipython3",
   "version": "3.11.5"
  },
  "orig_nbformat": 4
 },
 "nbformat": 4,
 "nbformat_minor": 2
}
